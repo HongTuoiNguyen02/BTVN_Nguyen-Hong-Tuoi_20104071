{
  "nbformat": 4,
  "nbformat_minor": 0,
  "metadata": {
    "colab": {
      "provenance": [],
      "collapsed_sections": [],
      "include_colab_link": true
    },
    "kernelspec": {
      "name": "python3",
      "display_name": "Python 3"
    },
    "language_info": {
      "name": "python"
    }
  },
  "cells": [
    {
      "cell_type": "markdown",
      "metadata": {
        "id": "view-in-github",
        "colab_type": "text"
      },
      "source": [
        "<a href=\"https://colab.research.google.com/github/HongTuoiNguyen02/BTVN_Nguyen-Hong-Tuoi_20104071/blob/main/Tu%E1%BA%A7n_5_(11_10_22)_m%E1%BA%A1ng_th%E1%BA%A7n_kinh_nh%C3%A2n_t%E1%BA%A1o.ipynb\" target=\"_parent\"><img src=\"https://colab.research.google.com/assets/colab-badge.svg\" alt=\"Open In Colab\"/></a>"
      ]
    },
    {
      "cell_type": "code",
      "execution_count": null,
      "metadata": {
        "colab": {
          "base_uri": "https://localhost:8080/"
        },
        "id": "24i6XzTcx1AO",
        "outputId": "db212b91-35e6-46dd-e8e4-3ef638239ea9"
      },
      "outputs": [
        {
          "output_type": "stream",
          "name": "stdout",
          "text": [
            "Do chinh xac 1.0\n",
            "[0 1 0 1]\n"
          ]
        }
      ],
      "source": [
        "import numpy as np\n",
        "from sklearn.linear_model import Perceptron\n",
        "x=[0,0],[1,0],[0,1],[1,1]\n",
        "y=[0,1,1,1]\n",
        "model=Perceptron()\n",
        "model.fit(x,y)\n",
        "print('Do chinh xac', model.score(x,y))\n",
        "x_test=[[0.5,0],[0.9,-0.2],[1,-0.5],[0.2,0.7]]\n",
        "y_test=model.predict(x_test)\n",
        "print(y_test)\n",
        "\n"
      ]
    },
    {
      "cell_type": "code",
      "source": [
        "import numpy as np\n",
        "from sklearn.linear_model import Perceptron\n",
        "x=[0,0],[1,0],[0,1],[1,1]\n",
        "y=[0,1,1,1]\n",
        "model=Perceptron()\n",
        "model.fit(x,y)\n",
        "print('Do chinh xac', model.score(x,y))\n",
        "x_test=[[0.5,0],[0.9,-0.2],[1,-0.5],[0.2,0.7]]\n",
        "y_test=model.predict(x_test)\n",
        "print(y_test)\n"
      ],
      "metadata": {
        "colab": {
          "base_uri": "https://localhost:8080/"
        },
        "id": "nht79vOh2kFS",
        "outputId": "9bdf0ec2-668f-42e2-a8c3-195c6d59f3e7"
      },
      "execution_count": null,
      "outputs": [
        {
          "output_type": "stream",
          "name": "stdout",
          "text": [
            "Do chinh xac 1.0\n",
            "[0 1 0 1]\n"
          ]
        }
      ]
    },
    {
      "cell_type": "code",
      "source": [
        "import numpy as np\n",
        "from sklearn.linear_model import Perceptron\n",
        "from sklearn.model_selection import train_test_split\n",
        "import pandas as pd\n",
        "url= '/crabs.csv'\n",
        "data= pd.read_csv('crabs.csv')\n",
        "x = data.drop(['speies','sex','index'],axis = True)\n",
        "y = data['sex'].replace(['M','F'],[0,1])\n",
        "x_train, x_test, y_train, y_test = train_test_split(x,y,test_size = 0.4)\n",
        "model = Perceptron()\n",
        "model.fit(x_train,y_train)\n",
        "print('do chinh xac',model.score(x,y))\n",
        "x_test = [[6.5,4,15,18,9],[12,14,40,45,16]]\n",
        "y_test = model.predict(x_test)\n",
        "print(y_test)"
      ],
      "metadata": {
        "id": "SGY4R4lH3lDb"
      },
      "execution_count": null,
      "outputs": []
    },
    {
      "cell_type": "code",
      "source": [
        "import pandas as pd\n",
        "import numpy as np\n",
        "from sklearn.linear_model import Perceptron\n",
        "from sklearn.model_selection import train_test_split\n",
        "from sklearn.datasets import load_iris\n",
        "iris = load_iris()\n",
        "#print (iris)\n",
        "for n, i in enumerate(iris.target):\n",
        "  if i == 2:\n",
        "    iris.target[n] = 1\n",
        "x = iris.data\n",
        "y = iris.target\n",
        "x_train, x_test, y_train, y_test = train_test_split(x,y,test_size = 0.5)\n",
        "model = Perceptron()\n",
        "model.fit(x_train,y_train)\n",
        "print('Do chinh xac',model.score(x_test,y_test))\n",
        "x_test = [[4,3,2,1],[4,5,3,1]]\n",
        "y_test = model.predict(x_test)\n",
        "print(y_test)\n",
        "\n"
      ],
      "metadata": {
        "colab": {
          "base_uri": "https://localhost:8080/"
        },
        "id": "wlXhr1IME6Bs",
        "outputId": "8153f6b2-d6df-41ac-d449-c930041f742d"
      },
      "execution_count": null,
      "outputs": [
        {
          "output_type": "stream",
          "name": "stdout",
          "text": [
            "Do chinh xac 1.0\n",
            "[0 0]\n"
          ]
        }
      ]
    }
  ]
}